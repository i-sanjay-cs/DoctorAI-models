{
  "cells": [
    {
      "cell_type": "code",
      "execution_count": null,
      "id": "WaQghkJ3G67dUJ6jYZowBojG",
      "metadata": {
        "colab": {
          "base_uri": "https://localhost:8080/"
        },
        "executionInfo": {
          "elapsed": 7507,
          "status": "ok",
          "timestamp": 1716637073020,
          "user": {
            "displayName": "",
            "userId": ""
          },
          "user_tz": -330
        },
        "id": "WaQghkJ3G67dUJ6jYZowBojG",
        "outputId": "46e9f508-55e8-4cb9-8348-a8d4c374af63",
        "tags": []
      },
      "outputs": [
        {
          "name": "stdout",
          "output_type": "stream",
          "text": [
            "Requirement already satisfied: pyngrok in /usr/local/lib/python3.10/dist-packages (7.1.6)\n",
            "Requirement already satisfied: PyYAML>=5.1 in /usr/local/lib/python3.10/dist-packages (from pyngrok) (6.0.1)\n"
          ]
        }
      ],
      "source": [
        "!pip install pyngrok"
      ]
    },
    {
      "cell_type": "code",
      "execution_count": null,
      "id": "_SxD4GCo5z0p",
      "metadata": {
        "colab": {
          "base_uri": "https://localhost:8080/"
        },
        "executionInfo": {
          "elapsed": 7397,
          "status": "ok",
          "timestamp": 1716637080413,
          "user": {
            "displayName": "",
            "userId": ""
          },
          "user_tz": -330
        },
        "id": "_SxD4GCo5z0p",
        "outputId": "969f17fd-2d0a-4654-91b8-1a3ed6c77236"
      },
      "outputs": [
        {
          "name": "stdout",
          "output_type": "stream",
          "text": [
            "Requirement already satisfied: flask_cors in /usr/local/lib/python3.10/dist-packages (4.0.1)\n",
            "Requirement already satisfied: Flask>=0.9 in /usr/local/lib/python3.10/dist-packages (from flask_cors) (2.2.5)\n",
            "Requirement already satisfied: Werkzeug>=2.2.2 in /usr/local/lib/python3.10/dist-packages (from Flask>=0.9->flask_cors) (3.0.3)\n",
            "Requirement already satisfied: Jinja2>=3.0 in /usr/local/lib/python3.10/dist-packages (from Flask>=0.9->flask_cors) (3.1.4)\n",
            "Requirement already satisfied: itsdangerous>=2.0 in /usr/local/lib/python3.10/dist-packages (from Flask>=0.9->flask_cors) (2.2.0)\n",
            "Requirement already satisfied: click>=8.0 in /usr/local/lib/python3.10/dist-packages (from Flask>=0.9->flask_cors) (8.1.7)\n",
            "Requirement already satisfied: MarkupSafe>=2.0 in /usr/local/lib/python3.10/dist-packages (from Jinja2>=3.0->Flask>=0.9->flask_cors) (2.1.5)\n"
          ]
        }
      ],
      "source": [
        "!pip install flask_cors"
      ]
    },
    {
      "cell_type": "code",
      "execution_count": null,
      "id": "gJPiF6GOiS9H",
      "metadata": {
        "id": "gJPiF6GOiS9H"
      },
      "outputs": [],
      "source": [
        "import os\n",
        "import numpy as np\n",
        "from pyngrok import ngrok\n",
        "from flask import Flask, request, jsonify\n",
        "from tensorflow.keras.models import load_model\n",
        "from flask_cors import CORS\n",
        "from werkzeug.utils import secure_filename\n",
        "from tensorflow.keras.preprocessing.image import load_img, img_to_array\n",
        "from tensorflow.keras.applications.densenet import preprocess_input\n",
        "import tensorflow as tf"
      ]
    },
    {
      "cell_type": "code",
      "execution_count": null,
      "id": "jtDDO8xLiviu",
      "metadata": {
        "colab": {
          "base_uri": "https://localhost:8080/"
        },
        "executionInfo": {
          "elapsed": 22,
          "status": "ok",
          "timestamp": 1716637080414,
          "user": {
            "displayName": "",
            "userId": ""
          },
          "user_tz": -330
        },
        "id": "jtDDO8xLiviu",
        "outputId": "489d0ceb-31fb-4e02-f619-ef2410f1559b"
      },
      "outputs": [
        {
          "data": {
            "text/plain": [
              "<flask_cors.extension.CORS at 0x79e722a29750>"
            ]
          },
          "execution_count": 102,
          "metadata": {},
          "output_type": "execute_result"
        }
      ],
      "source": [
        "ngrok.set_auth_token('Api -Key - Ngrok')\n",
        "\n",
        "app = Flask(__name__)\n",
        "CORS(app)"
      ]
    },
    {
      "cell_type": "code",
      "execution_count": null,
      "id": "uWvGSfqIixZ_",
      "metadata": {
        "id": "uWvGSfqIixZ_"
      },
      "outputs": [],
      "source": [
        "# Define a class for Brain Tumor Prediction\n",
        "class BrainTumorPredictor:\n",
        "    def __init__(self):\n",
        "        self.classification_model = load_model('/content/classifier/brain_image_classifier1.h5')\n",
        "        self.tumor_model = load_model(\"/content/models/tumor.h5\")\n",
        "        self.classification_input_size = (150, 150)\n",
        "        self.tumor_input_size = (128, 128)\n",
        "\n",
        "    def preprocess_image(self, image_path, target_size):\n",
        "        img = load_img(image_path, target_size=target_size)\n",
        "        img_array = img_to_array(img)\n",
        "        img_array = np.expand_dims(img_array, axis=0)\n",
        "        img_array = img_array / 255.0\n",
        "        return img_array\n",
        "\n",
        "    def predict_image_class(self, image_path):\n",
        "        preprocessed_img = self.preprocess_image(image_path, self.classification_input_size)\n",
        "        prediction = self.classification_model.predict(preprocessed_img)\n",
        "        return prediction[0][1] > prediction[0][0]\n",
        "\n",
        "    def predict_brain_tumor(self, image_path):\n",
        "        preprocessed_img = self.preprocess_image(image_path, self.tumor_input_size)\n",
        "        prediction = self.tumor_model.predict(preprocessed_img)\n",
        "        predicted_score = prediction[0][0]\n",
        "        return \"Brain tumor detected\" if predicted_score >= 0.5 else \"No brain tumor detected\"\n",
        "\n",
        "# API route for predicting brain tumor\n",
        "@app.route('/predict-brain-tumor', methods=['POST'])\n",
        "def predict_brain_tumor_api():\n",
        "    try:\n",
        "        if 'file' not in request.files:\n",
        "            return jsonify({'error': 'No file part'})\n",
        "\n",
        "        file = request.files['file']\n",
        "        if file.filename == '':\n",
        "            return jsonify({'error': 'No selected file'})\n",
        "\n",
        "        os.makedirs('uploads', exist_ok=True)\n",
        "        filename = secure_filename(file.filename)\n",
        "        filepath = os.path.join('uploads', filename)\n",
        "        file.save(filepath)\n",
        "\n",
        "        is_brain_image = brain_tumor_predictor.predict_image_class(filepath)\n",
        "        if not is_brain_image:\n",
        "            return jsonify({'error': 'Input image does not contain a valid brain structure'})\n",
        "\n",
        "        prediction_result = brain_tumor_predictor.predict_brain_tumor(filepath)\n",
        "        return jsonify({'prediction_result': prediction_result})\n",
        "\n",
        "    except Exception as e:\n",
        "        app.logger.error(f\"An error occurred: {str(e)}\")\n",
        "        return jsonify({'error': 'Error detecting brain tumor. Please try again.'})"
      ]
    },
    {
      "cell_type": "code",
      "execution_count": null,
      "id": "O4UTW8opizbt",
      "metadata": {
        "id": "O4UTW8opizbt"
      },
      "outputs": [],
      "source": [
        "# Define a class for Pneumonia Prediction\n",
        "class PneumoniaPredictor:\n",
        "    def __init__(self):\n",
        "        self.chest_image_classifier = load_model('/content/classifier/chest_image_classifier.h5')\n",
        "        self.pneumonia_model = load_model(\"/content/models/pneumonia_detection_model_new_v2.h5\")\n",
        "        self.classification_input_size = (150, 150)\n",
        "        self.pneumonia_input_size = (224, 224)\n",
        "\n",
        "    def preprocess_image(self, image_path, target_size):\n",
        "        img = load_img(image_path, target_size=target_size)\n",
        "        img_array = img_to_array(img)\n",
        "        img_array = np.expand_dims(img_array, axis=0)\n",
        "        img_array = img_array / 255.0\n",
        "        return img_array\n",
        "\n",
        "    def predict_image_class(self, image_path):\n",
        "        preprocessed_img = self.preprocess_image(image_path, self.classification_input_size)\n",
        "        prediction = self.chest_image_classifier.predict(preprocessed_img)\n",
        "        return prediction[0][1] > prediction[0][0]\n",
        "\n",
        "    def predict_pneumonia(self, image_path):\n",
        "        preprocessed_img = self.preprocess_image(image_path, self.pneumonia_input_size)\n",
        "        predictions = self.pneumonia_model.predict(preprocessed_img)\n",
        "        class_labels = ['BACTERIAL PNEUMONIA', 'NORMAL', 'VIRUS PNEUMONIA']\n",
        "        predicted_class_index = np.argmax(predictions)\n",
        "        predicted_class_name = class_labels[predicted_class_index]\n",
        "        confidence_percentage = predictions[0][predicted_class_index] * 100\n",
        "        return predicted_class_name, confidence_percentage\n",
        "\n",
        "# API route for predicting pneumonia\n",
        "@app.route('/predict-pneumonia', methods=['POST'])\n",
        "def predict_pneumonia_api():\n",
        "    try:\n",
        "        if 'file' not in request.files:\n",
        "            return jsonify({'error': 'No file part'})\n",
        "\n",
        "        file = request.files['file']\n",
        "        if file.filename == '':\n",
        "            return jsonify({'error': 'No selected file'})\n",
        "\n",
        "        os.makedirs('uploads', exist_ok=True)\n",
        "        filename = secure_filename(file.filename)\n",
        "        filepath = os.path.join('uploads', filename)\n",
        "        file.save(filepath)\n",
        "\n",
        "        is_chest_image = pneumonia_predictor.predict_image_class(filepath)\n",
        "        if not is_chest_image:\n",
        "            return jsonify({'error': 'Input image is not a valid chest image'})\n",
        "\n",
        "        predicted_class_name, confidence_percentage = pneumonia_predictor.predict_pneumonia(filepath)\n",
        "        return jsonify({'predicted_class_name': predicted_class_name, 'confidence_percentage': confidence_percentage})\n",
        "\n",
        "    except Exception as e:\n",
        "        app.logger.error(f\"An error occurred: {str(e)}\")\n",
        "        return jsonify({'predicted_class_name': 'Error', 'confidence_percentage': 0,\n",
        "                        'error_message': 'Error detecting pneumonia. Please try again.'})"
      ]
    },
    {
      "cell_type": "code",
      "execution_count": null,
      "id": "yHk5IJRZi1ZY",
      "metadata": {
        "id": "yHk5IJRZi1ZY"
      },
      "outputs": [],
      "source": [
        "# Define a class for Tuberculosis Prediction\n",
        "class TuberculosisPredictor:\n",
        "    def __init__(self):\n",
        "        self.tb_model = load_model(\"/content/models/tb3_model.h5\")\n",
        "        self.tb_chest_classifier = load_model(\"/content/classifier/tb_chest_image_classifier1.h5\")\n",
        "        self.classification_input_size = (150, 150)\n",
        "        self.tb_input_size = (224, 224)\n",
        "\n",
        "    def preprocess_image(self, image_path, target_size):\n",
        "        img = load_img(image_path, target_size=target_size)\n",
        "        img_array = img_to_array(img)\n",
        "        img_array = np.expand_dims(img_array, axis=0)\n",
        "        img_array = preprocess_input(img_array)\n",
        "        return img_array\n",
        "\n",
        "    def predict_chest_class(self, image_path):\n",
        "        preprocessed_img = self.preprocess_image(image_path, self.classification_input_size)\n",
        "        prediction = self.tb_chest_classifier.predict(preprocessed_img)\n",
        "        return \"Chest Image\" if prediction[0][1] > prediction[0][0] else \"Non-Chest Image\"\n",
        "\n",
        "    def predict_tuberculosis(self, image_path):\n",
        "        image_class = self.predict_chest_class(image_path)\n",
        "        if image_class == \"Non-Chest Image\":\n",
        "            return \"Error\", 0, \"Uploaded image is not a chest image\"\n",
        "\n",
        "        img_array = self.preprocess_image(image_path, self.tb_input_size)\n",
        "        prediction = self.tb_model.predict(img_array)\n",
        "\n",
        "        predicted_class = \"Tuberculosis Detected\" if prediction[0][0] > 0.5 else \"Normal (No Tuberculosis Detected)\"\n",
        "        confidence_percentage = prediction[0][0] * 100 if predicted_class == \"Tuberculosis Detected\" else (1 - prediction[0][0]) * 100\n",
        "\n",
        "        return predicted_class, confidence_percentage, \"\"\n",
        "\n",
        "# API route for predicting tuberculosis\n",
        "@app.route('/predict-tuberculosis', methods=['POST'])\n",
        "def predict_tuberculosis_api():\n",
        "    try:\n",
        "        if 'file' not in request.files:\n",
        "            return jsonify({'error': 'No file part'})\n",
        "\n",
        "        file = request.files['file']\n",
        "\n",
        "        if file.filename == '':\n",
        "            return jsonify({'error': 'No selected file'})\n",
        "\n",
        "        # Create the 'uploads' directory if it does not exist\n",
        "        os.makedirs('uploads', exist_ok=True)\n",
        "\n",
        "        # Save the file\n",
        "        filename = secure_filename(file.filename)\n",
        "        filepath = os.path.join('uploads', filename)\n",
        "        file.save(filepath)\n",
        "\n",
        "        # Perform prediction using the TuberculosisPredictor class\n",
        "        predicted_class, confidence_percentage, error_message = tb_predictor.predict_tuberculosis(filepath)\n",
        "\n",
        "        return jsonify({'predicted_class': predicted_class, 'confidence_percentage': confidence_percentage, 'error_message': error_message})\n",
        "\n",
        "    except Exception as e:\n",
        "        app.logger.error(f\"An error occurred: {str(e)}\")\n",
        "        return jsonify({'predicted_class': 'Error', 'confidence_percentage': 0, 'error_message': 'Error detecting tuberculosis. Please try again.'})"
      ]
    },
    {
      "cell_type": "code",
      "execution_count": null,
      "id": "5BuVymf0i4Ly",
      "metadata": {
        "id": "5BuVymf0i4Ly"
      },
      "outputs": [],
      "source": [
        "# Define a class for Cataract Prediction\n",
        "class CataractPredictor:\n",
        "    def __init__(self):\n",
        "        self.eye_image_classifier = load_model('/content/classifier/eye_image_classifier.h5')\n",
        "        self.cataract_model = load_model(\"/content/models/cat_model.h5\")\n",
        "        self.eye_input_size = (150, 150)\n",
        "        self.cataract_image_size = (224, 224)\n",
        "\n",
        "    def preprocess_image(self, image_path, target_size):\n",
        "        img = load_img(image_path, target_size=target_size)\n",
        "        img_array = img_to_array(img)\n",
        "        img_array = np.expand_dims(img_array, axis=0)\n",
        "        img_array = img_array / 255.0\n",
        "        return img_array\n",
        "\n",
        "    def predict_eye_image_class(self, image_path):\n",
        "        preprocessed_img = self.preprocess_image(image_path, self.eye_input_size)\n",
        "        prediction = self.eye_image_classifier.predict(preprocessed_img)\n",
        "        return prediction[0][1] > prediction[0][0]\n",
        "\n",
        "    def predict_cataract(self, image_path):\n",
        "        preprocessed_img = self.preprocess_image(image_path, self.cataract_image_size)\n",
        "        prediction = self.cataract_model.predict(preprocessed_img)\n",
        "        predicted_class = \"Cataract Detected\" if prediction[0][0] > 0.5 else \"Normal\"\n",
        "        confidence = prediction[0][0] if predicted_class == \"Cataract Detected\" else 1 - prediction[0][0]\n",
        "        return predicted_class, confidence\n",
        "\n",
        "# API route for predicting cataract\n",
        "@app.route('/predict-cataract', methods=['POST'])\n",
        "def predict_cataract_api():\n",
        "    try:\n",
        "        if 'file' not in request.files:\n",
        "            return jsonify({'error': 'No file part'})\n",
        "\n",
        "        file = request.files['file']\n",
        "        if file.filename == '':\n",
        "            return jsonify({'error': 'No selected file'})\n",
        "\n",
        "        os.makedirs('uploads', exist_ok=True)\n",
        "        filename = secure_filename(file.filename)\n",
        "        filepath = os.path.join('uploads', filename)\n",
        "        file.save(filepath)\n",
        "\n",
        "        is_eye_image = cataract_predictor.predict_eye_image_class(filepath)\n",
        "        if not is_eye_image:\n",
        "            return jsonify({'error': 'Uploaded image is not an eye image'})\n",
        "\n",
        "        predicted_class, confidence = cataract_predictor.predict_cataract(filepath)\n",
        "        confidence = float(confidence)\n",
        "        return jsonify({'predicted_class': predicted_class, 'confidence': confidence})\n",
        "\n",
        "    except Exception as e:\n",
        "        app.logger.error(f\"An error occurred: {str(e)}\")\n",
        "        return jsonify({'error': 'Error detecting cataract. Please try again.'})"
      ]
    },
    {
      "cell_type": "code",
      "execution_count": null,
      "id": "IEmpzwatedmb",
      "metadata": {
        "id": "IEmpzwatedmb"
      },
      "outputs": [],
      "source": [
        "# Define a class for Bone Fracture Prediction\n",
        "class BoneFracturePredictor:\n",
        "    def __init__(self):\n",
        "        self.model_elbow_frac = tf.keras.models.load_model(\"/content/models/bone-model/ResNet50_Elbow_frac.h5\")\n",
        "        self.model_hand_frac = tf.keras.models.load_model(\"/content/models/bone-model/ResNet50_Hand_frac.h5\")\n",
        "        self.model_shoulder_frac = tf.keras.models.load_model(\"/content/models/bone-model/ResNet50_Shoulder_frac.h5\")\n",
        "        self.model_parts = tf.keras.models.load_model(\"/content/models/bone-model/ResNet50_BodyParts.h5\")\n",
        "        self.model_bone_classifier = load_model('/content/classifier/bone_image_classifier3.h5')\n",
        "        self.classification_input_size = (150, 150)\n",
        "        self.fracture_input_size = (224, 224)\n",
        "        self.categories_parts = [\"Elbow\", \"Hand\", \"Shoulder\"]\n",
        "        self.categories_fracture = ['normal', 'fractured']\n",
        "\n",
        "    def preprocess_image(self, image_path, target_size):\n",
        "        img = load_img(image_path, target_size=target_size)\n",
        "        img_array = img_to_array(img)\n",
        "        img_array = np.expand_dims(img_array, axis=0)\n",
        "        img_array = img_array / 255.0\n",
        "        return img_array\n",
        "\n",
        "    def predict_image_class(self, image_path):\n",
        "        preprocessed_img = self.preprocess_image(image_path, self.classification_input_size)\n",
        "        prediction = self.model_bone_classifier.predict(preprocessed_img)\n",
        "        return \"Bone Image\" if prediction[0][1] > prediction[0][0] else \"Non-Bone Image\"\n",
        "\n",
        "    def predict(self, img, model=\"Parts\"):\n",
        "        if model == 'Parts':\n",
        "            chosen_model = self.model_parts\n",
        "        else:\n",
        "            if model == 'Elbow':\n",
        "                chosen_model = self.model_elbow_frac\n",
        "            elif model == 'Hand':\n",
        "                chosen_model = self.model_hand_frac\n",
        "            elif model == 'Shoulder':\n",
        "                chosen_model = self.model_shoulder_frac\n",
        "\n",
        "        temp_img = load_img(img, target_size=self.fracture_input_size)\n",
        "        x = img_to_array(temp_img)\n",
        "        x = np.expand_dims(x, axis=0)\n",
        "        images = np.vstack([x])\n",
        "        prediction = np.argmax(chosen_model.predict(images), axis=1)\n",
        "\n",
        "        if model == 'Parts':\n",
        "            prediction_str = self.categories_parts[prediction.item()]\n",
        "        else:\n",
        "            prediction_str = self.categories_fracture[prediction.item()]\n",
        "\n",
        "        return prediction_str\n",
        "\n",
        "  # API route for predicting bone fracture\n",
        "@app.route('/predict-fracture', methods=['POST'])\n",
        "def predict_fracture_api():\n",
        "    try:\n",
        "        if 'file' not in request.files:\n",
        "            return jsonify({\"error\": \"No file part\"})\n",
        "        file = request.files['file']\n",
        "        if file.filename == '':\n",
        "            return jsonify({\"error\": \"No selected file\"})\n",
        "\n",
        "        os.makedirs('uploads', exist_ok=True)\n",
        "        filename = secure_filename(file.filename)\n",
        "        filepath = os.path.join('uploads', filename)\n",
        "        file.save(filepath)\n",
        "\n",
        "        image_class = bone_fracture_predictor.predict_image_class(filepath)\n",
        "        if image_class == \"Non-Bone Image\":\n",
        "            return jsonify({\"error\": \"Uploaded image is not a valid bone image.\"})\n",
        "\n",
        "        body_part = bone_fracture_predictor.predict(filepath, model=\"Parts\")\n",
        "        fracture_status = bone_fracture_predictor.predict(filepath, model=body_part)\n",
        "\n",
        "        return jsonify({\n",
        "            \"predicted_body_part\": body_part,\n",
        "            \"predicted_fracture_status\": fracture_status\n",
        "        })\n",
        "\n",
        "    except Exception as e:\n",
        "        app.logger.error(f\"An error occurred: {str(e)}\")\n",
        "        return jsonify({\"error\": \"Error detecting bone fracture. Please try again.\"})"
      ]
    },
    {
      "cell_type": "code",
      "execution_count": null,
      "id": "j6mKtw1pi5_C",
      "metadata": {
        "id": "j6mKtw1pi5_C"
      },
      "outputs": [],
      "source": [
        "# Initialize predictors\n",
        "brain_tumor_predictor = BrainTumorPredictor()\n",
        "cataract_predictor = CataractPredictor()\n",
        "pneumonia_predictor = PneumoniaPredictor()\n",
        "tb_predictor = TuberculosisPredictor()\n",
        "bone_fracture_predictor = BoneFracturePredictor()"
      ]
    },
    {
      "cell_type": "code",
      "execution_count": null,
      "id": "tkQpN9JSi_g6",
      "metadata": {
        "colab": {
          "base_uri": "https://localhost:8080/"
        },
        "id": "tkQpN9JSi_g6",
        "outputId": "90963141-c3c7-40a3-db27-ce57ab2a3237"
      },
      "outputs": [
        {
          "name": "stdout",
          "output_type": "stream",
          "text": [
            " * ngrok tunnel \"NgrokTunnel: \"https://6a2a-34-122-19-16.ngrok-free.app\" -> \"http://localhost:5000\"\"\n",
            " * Serving Flask app '__main__'\n",
            " * Debug mode: off\n"
          ]
        },
        {
          "name": "stderr",
          "output_type": "stream",
          "text": [
            "INFO:werkzeug:\u001b[31m\u001b[1mWARNING: This is a development server. Do not use it in a production deployment. Use a production WSGI server instead.\u001b[0m\n",
            " * Running on http://127.0.0.1:5000\n",
            "INFO:werkzeug:\u001b[33mPress CTRL+C to quit\u001b[0m\n"
          ]
        },
        {
          "name": "stdout",
          "output_type": "stream",
          "text": [
            "1/1 [==============================] - 0s 125ms/step\n",
            "1/1 [==============================] - 1s 1s/step\n",
            "1/1 [==============================] - 1s 1s/step\n"
          ]
        },
        {
          "name": "stderr",
          "output_type": "stream",
          "text": [
            "INFO:werkzeug:127.0.0.1 - - [25/May/2024 11:40:05] \"POST /predict-fracture HTTP/1.1\" 200 -\n"
          ]
        },
        {
          "name": "stdout",
          "output_type": "stream",
          "text": [
            "1/1 [==============================] - 0s 34ms/step\n",
            "1/1 [==============================] - 0s 117ms/step\n",
            "1/1 [==============================] - 0s 126ms/step\n"
          ]
        },
        {
          "name": "stderr",
          "output_type": "stream",
          "text": [
            "INFO:werkzeug:127.0.0.1 - - [25/May/2024 11:42:17] \"POST /predict-fracture HTTP/1.1\" 200 -\n"
          ]
        },
        {
          "name": "stdout",
          "output_type": "stream",
          "text": [
            "1/1 [==============================] - 0s 34ms/step\n",
            "1/1 [==============================] - 0s 128ms/step\n",
            "1/1 [==============================] - 0s 122ms/step\n"
          ]
        },
        {
          "name": "stderr",
          "output_type": "stream",
          "text": [
            "INFO:werkzeug:127.0.0.1 - - [25/May/2024 11:46:06] \"POST /predict-fracture HTTP/1.1\" 200 -\n"
          ]
        },
        {
          "name": "stdout",
          "output_type": "stream",
          "text": [
            "1/1 [==============================] - 0s 31ms/step\n",
            "1/1 [==============================] - 0s 119ms/step\n",
            "1/1 [==============================] - 0s 117ms/step\n"
          ]
        },
        {
          "name": "stderr",
          "output_type": "stream",
          "text": [
            "INFO:werkzeug:127.0.0.1 - - [25/May/2024 11:46:14] \"POST /predict-fracture HTTP/1.1\" 200 -\n"
          ]
        },
        {
          "name": "stdout",
          "output_type": "stream",
          "text": [
            "1/1 [==============================] - 0s 29ms/step\n"
          ]
        },
        {
          "name": "stderr",
          "output_type": "stream",
          "text": [
            "INFO:werkzeug:127.0.0.1 - - [25/May/2024 11:46:23] \"POST /predict-fracture HTTP/1.1\" 200 -\n"
          ]
        },
        {
          "name": "stdout",
          "output_type": "stream",
          "text": [
            "1/1 [==============================] - 0s 31ms/step\n",
            "1/1 [==============================] - 0s 115ms/step\n",
            "1/1 [==============================] - 0s 126ms/step\n"
          ]
        },
        {
          "name": "stderr",
          "output_type": "stream",
          "text": [
            "INFO:werkzeug:127.0.0.1 - - [25/May/2024 11:47:12] \"POST /predict-fracture HTTP/1.1\" 200 -\n"
          ]
        },
        {
          "name": "stdout",
          "output_type": "stream",
          "text": [
            "1/1 [==============================] - 0s 31ms/step\n"
          ]
        },
        {
          "name": "stderr",
          "output_type": "stream",
          "text": [
            "INFO:werkzeug:127.0.0.1 - - [25/May/2024 11:47:35] \"POST /predict-fracture HTTP/1.1\" 200 -\n"
          ]
        },
        {
          "name": "stdout",
          "output_type": "stream",
          "text": [
            "1/1 [==============================] - 0s 35ms/step\n"
          ]
        },
        {
          "name": "stderr",
          "output_type": "stream",
          "text": [
            "INFO:werkzeug:127.0.0.1 - - [25/May/2024 11:50:08] \"POST /predict-fracture HTTP/1.1\" 200 -\n"
          ]
        },
        {
          "name": "stdout",
          "output_type": "stream",
          "text": [
            "1/1 [==============================] - 0s 33ms/step\n",
            "1/1 [==============================] - 0s 123ms/step\n",
            "1/1 [==============================] - 0s 125ms/step\n"
          ]
        },
        {
          "name": "stderr",
          "output_type": "stream",
          "text": [
            "INFO:werkzeug:127.0.0.1 - - [25/May/2024 11:50:39] \"POST /predict-fracture HTTP/1.1\" 200 -\n"
          ]
        },
        {
          "name": "stdout",
          "output_type": "stream",
          "text": [
            "1/1 [==============================] - 0s 32ms/step\n"
          ]
        },
        {
          "name": "stderr",
          "output_type": "stream",
          "text": [
            "INFO:werkzeug:127.0.0.1 - - [25/May/2024 11:52:52] \"POST /predict-fracture HTTP/1.1\" 200 -\n"
          ]
        },
        {
          "name": "stdout",
          "output_type": "stream",
          "text": [
            "1/1 [==============================] - 0s 32ms/step\n",
            "1/1 [==============================] - 0s 115ms/step\n",
            "1/1 [==============================] - 0s 115ms/step\n"
          ]
        },
        {
          "name": "stderr",
          "output_type": "stream",
          "text": [
            "INFO:werkzeug:127.0.0.1 - - [25/May/2024 11:53:11] \"POST /predict-fracture HTTP/1.1\" 200 -\n"
          ]
        },
        {
          "name": "stdout",
          "output_type": "stream",
          "text": [
            "1/1 [==============================] - 0s 31ms/step\n"
          ]
        },
        {
          "name": "stderr",
          "output_type": "stream",
          "text": [
            "INFO:werkzeug:127.0.0.1 - - [25/May/2024 11:55:22] \"POST /predict-fracture HTTP/1.1\" 200 -\n"
          ]
        },
        {
          "name": "stdout",
          "output_type": "stream",
          "text": [
            "1/1 [==============================] - 0s 33ms/step\n"
          ]
        },
        {
          "name": "stderr",
          "output_type": "stream",
          "text": [
            "INFO:werkzeug:127.0.0.1 - - [25/May/2024 11:58:06] \"POST /predict-fracture HTTP/1.1\" 200 -\n"
          ]
        },
        {
          "name": "stdout",
          "output_type": "stream",
          "text": [
            "1/1 [==============================] - 0s 32ms/step\n",
            "1/1 [==============================] - 0s 120ms/step\n",
            "1/1 [==============================] - 0s 118ms/step\n"
          ]
        },
        {
          "name": "stderr",
          "output_type": "stream",
          "text": [
            "INFO:werkzeug:127.0.0.1 - - [25/May/2024 11:58:37] \"POST /predict-fracture HTTP/1.1\" 200 -\n"
          ]
        },
        {
          "name": "stdout",
          "output_type": "stream",
          "text": [
            "1/1 [==============================] - 0s 30ms/step\n"
          ]
        },
        {
          "name": "stderr",
          "output_type": "stream",
          "text": [
            "INFO:werkzeug:127.0.0.1 - - [25/May/2024 11:58:44] \"POST /predict-fracture HTTP/1.1\" 200 -\n"
          ]
        },
        {
          "name": "stdout",
          "output_type": "stream",
          "text": [
            "1/1 [==============================] - 0s 32ms/step\n",
            "1/1 [==============================] - 0s 123ms/step\n",
            "1/1 [==============================] - 1s 1s/step\n"
          ]
        },
        {
          "name": "stderr",
          "output_type": "stream",
          "text": [
            "INFO:werkzeug:127.0.0.1 - - [25/May/2024 12:08:31] \"POST /predict-fracture HTTP/1.1\" 200 -\n"
          ]
        },
        {
          "name": "stdout",
          "output_type": "stream",
          "text": [
            "1/1 [==============================] - 0s 32ms/step\n",
            "1/1 [==============================] - 0s 118ms/step\n",
            "1/1 [==============================] - 0s 117ms/step\n"
          ]
        },
        {
          "name": "stderr",
          "output_type": "stream",
          "text": [
            "INFO:werkzeug:127.0.0.1 - - [25/May/2024 12:09:05] \"POST /predict-fracture HTTP/1.1\" 200 -\n"
          ]
        },
        {
          "name": "stdout",
          "output_type": "stream",
          "text": [
            "1/1 [==============================] - 0s 30ms/step\n",
            "1/1 [==============================] - 0s 117ms/step\n",
            "1/1 [==============================] - 0s 120ms/step\n"
          ]
        },
        {
          "name": "stderr",
          "output_type": "stream",
          "text": [
            "INFO:werkzeug:127.0.0.1 - - [25/May/2024 12:09:47] \"POST /predict-fracture HTTP/1.1\" 200 -\n"
          ]
        },
        {
          "name": "stdout",
          "output_type": "stream",
          "text": [
            "1/1 [==============================] - 0s 96ms/step\n",
            "1/1 [==============================] - 0s 252ms/step\n"
          ]
        },
        {
          "name": "stderr",
          "output_type": "stream",
          "text": [
            "INFO:werkzeug:127.0.0.1 - - [25/May/2024 12:10:27] \"POST /predict-brain-tumor HTTP/1.1\" 200 -\n",
            "WARNING:tensorflow:5 out of the last 41 calls to <function Model.make_predict_function.<locals>.predict_function at 0x79e7238440d0> triggered tf.function retracing. Tracing is expensive and the excessive number of tracings could be due to (1) creating @tf.function repeatedly in a loop, (2) passing tensors with different shapes, (3) passing Python objects instead of tensors. For (1), please define your @tf.function outside of the loop. For (2), @tf.function has reduce_retracing=True option that can avoid unnecessary retracing. For (3), please refer to https://www.tensorflow.org/guide/function#controlling_retracing and https://www.tensorflow.org/api_docs/python/tf/function for  more details.\n"
          ]
        },
        {
          "name": "stdout",
          "output_type": "stream",
          "text": [
            "1/1 [==============================] - 0s 97ms/step\n"
          ]
        },
        {
          "name": "stderr",
          "output_type": "stream",
          "text": [
            "INFO:werkzeug:127.0.0.1 - - [25/May/2024 12:11:09] \"POST /predict-pneumonia HTTP/1.1\" 200 -\n"
          ]
        },
        {
          "name": "stdout",
          "output_type": "stream",
          "text": [
            "1/1 [==============================] - 0s 30ms/step\n",
            "1/1 [==============================] - 2s 2s/step\n"
          ]
        },
        {
          "name": "stderr",
          "output_type": "stream",
          "text": [
            "INFO:werkzeug:127.0.0.1 - - [25/May/2024 12:11:27] \"POST /predict-pneumonia HTTP/1.1\" 200 -\n"
          ]
        },
        {
          "name": "stdout",
          "output_type": "stream",
          "text": [
            "1/1 [==============================] - 0s 98ms/step\n",
            "1/1 [==============================] - 3s 3s/step\n"
          ]
        },
        {
          "name": "stderr",
          "output_type": "stream",
          "text": [
            "INFO:werkzeug:127.0.0.1 - - [25/May/2024 12:12:02] \"POST /predict-cataract HTTP/1.1\" 200 -\n"
          ]
        },
        {
          "name": "stdout",
          "output_type": "stream",
          "text": [
            "1/1 [==============================] - 0s 35ms/step\n",
            "1/1 [==============================] - 0s 109ms/step\n"
          ]
        },
        {
          "name": "stderr",
          "output_type": "stream",
          "text": [
            "INFO:werkzeug:127.0.0.1 - - [25/May/2024 12:12:41] \"POST /predict-cataract HTTP/1.1\" 200 -\n"
          ]
        },
        {
          "name": "stdout",
          "output_type": "stream",
          "text": [
            "1/1 [==============================] - 0s 31ms/step\n",
            "1/1 [==============================] - 0s 109ms/step\n"
          ]
        },
        {
          "name": "stderr",
          "output_type": "stream",
          "text": [
            "INFO:werkzeug:127.0.0.1 - - [25/May/2024 12:13:06] \"POST /predict-cataract HTTP/1.1\" 200 -\n"
          ]
        },
        {
          "name": "stdout",
          "output_type": "stream",
          "text": [
            "1/1 [==============================] - 0s 31ms/step\n",
            "1/1 [==============================] - 0s 111ms/step\n"
          ]
        },
        {
          "name": "stderr",
          "output_type": "stream",
          "text": [
            "INFO:werkzeug:127.0.0.1 - - [25/May/2024 12:13:29] \"POST /predict-cataract HTTP/1.1\" 200 -\n"
          ]
        },
        {
          "name": "stdout",
          "output_type": "stream",
          "text": [
            "1/1 [==============================] - 0s 96ms/step\n",
            "1/1 [==============================] - 0s 46ms/step\n",
            "1/1 [==============================] - 2s 2s/step\n",
            "1/1 [==============================] - 2s 2s/step\n"
          ]
        },
        {
          "name": "stderr",
          "output_type": "stream",
          "text": [
            "INFO:werkzeug:127.0.0.1 - - [25/May/2024 12:14:15] \"POST /predict-tuberculosis HTTP/1.1\" 200 -\n",
            "INFO:werkzeug:127.0.0.1 - - [25/May/2024 12:14:15] \"POST /predict-tuberculosis HTTP/1.1\" 200 -\n"
          ]
        },
        {
          "name": "stdout",
          "output_type": "stream",
          "text": [
            "1/1 [==============================] - 0s 29ms/step\n",
            "1/1 [==============================] - 0s 113ms/step\n"
          ]
        },
        {
          "name": "stderr",
          "output_type": "stream",
          "text": [
            "INFO:werkzeug:127.0.0.1 - - [25/May/2024 12:14:49] \"POST /predict-tuberculosis HTTP/1.1\" 200 -\n"
          ]
        },
        {
          "name": "stdout",
          "output_type": "stream",
          "text": [
            "1/1 [==============================] - 0s 31ms/step\n",
            "1/1 [==============================] - 0s 111ms/step\n"
          ]
        },
        {
          "name": "stderr",
          "output_type": "stream",
          "text": [
            "INFO:werkzeug:127.0.0.1 - - [25/May/2024 12:15:26] \"POST /predict-tuberculosis HTTP/1.1\" 200 -\n"
          ]
        },
        {
          "name": "stdout",
          "output_type": "stream",
          "text": [
            "1/1 [==============================] - 0s 29ms/step\n"
          ]
        },
        {
          "name": "stderr",
          "output_type": "stream",
          "text": [
            "INFO:werkzeug:127.0.0.1 - - [25/May/2024 12:16:01] \"POST /predict-tuberculosis HTTP/1.1\" 200 -\n"
          ]
        },
        {
          "name": "stdout",
          "output_type": "stream",
          "text": [
            "1/1 [==============================] - 0s 30ms/step\n",
            "1/1 [==============================] - 0s 112ms/step\n"
          ]
        },
        {
          "name": "stderr",
          "output_type": "stream",
          "text": [
            "INFO:werkzeug:127.0.0.1 - - [25/May/2024 12:31:38] \"POST /predict-brain-tumor HTTP/1.1\" 200 -\n"
          ]
        },
        {
          "name": "stdout",
          "output_type": "stream",
          "text": [
            "1/1 [==============================] - 0s 33ms/step\n",
            "1/1 [==============================] - 0s 124ms/step\n"
          ]
        },
        {
          "name": "stderr",
          "output_type": "stream",
          "text": [
            "INFO:werkzeug:127.0.0.1 - - [25/May/2024 12:32:20] \"POST /predict-pneumonia HTTP/1.1\" 200 -\n"
          ]
        },
        {
          "name": "stdout",
          "output_type": "stream",
          "text": [
            "1/1 [==============================] - 0s 30ms/step\n",
            "1/1 [==============================] - 0s 121ms/step\n"
          ]
        },
        {
          "name": "stderr",
          "output_type": "stream",
          "text": [
            "INFO:werkzeug:127.0.0.1 - - [25/May/2024 12:32:36] \"POST /predict-pneumonia HTTP/1.1\" 200 -\n"
          ]
        },
        {
          "name": "stdout",
          "output_type": "stream",
          "text": [
            "1/1 [==============================] - 0s 30ms/step\n",
            "1/1 [==============================] - 0s 120ms/step\n"
          ]
        },
        {
          "name": "stderr",
          "output_type": "stream",
          "text": [
            "INFO:werkzeug:127.0.0.1 - - [25/May/2024 12:32:54] \"POST /predict-pneumonia HTTP/1.1\" 200 -\n"
          ]
        },
        {
          "name": "stdout",
          "output_type": "stream",
          "text": [
            "1/1 [==============================] - 0s 31ms/step\n",
            "1/1 [==============================] - 0s 123ms/step\n"
          ]
        },
        {
          "name": "stderr",
          "output_type": "stream",
          "text": [
            "INFO:werkzeug:127.0.0.1 - - [25/May/2024 12:33:08] \"POST /predict-pneumonia HTTP/1.1\" 200 -\n"
          ]
        },
        {
          "name": "stdout",
          "output_type": "stream",
          "text": [
            "1/1 [==============================] - 0s 31ms/step\n",
            "1/1 [==============================] - 0s 118ms/step\n"
          ]
        },
        {
          "name": "stderr",
          "output_type": "stream",
          "text": [
            "INFO:werkzeug:127.0.0.1 - - [25/May/2024 12:33:48] \"POST /predict-pneumonia HTTP/1.1\" 200 -\n"
          ]
        },
        {
          "name": "stdout",
          "output_type": "stream",
          "text": [
            "1/1 [==============================] - 0s 31ms/step\n",
            "1/1 [==============================] - 0s 114ms/step\n"
          ]
        },
        {
          "name": "stderr",
          "output_type": "stream",
          "text": [
            "INFO:werkzeug:127.0.0.1 - - [25/May/2024 12:34:19] \"POST /predict-tuberculosis HTTP/1.1\" 200 -\n"
          ]
        },
        {
          "name": "stdout",
          "output_type": "stream",
          "text": [
            "1/1 [==============================] - 0s 30ms/step\n",
            "1/1 [==============================] - 0s 110ms/step\n"
          ]
        },
        {
          "name": "stderr",
          "output_type": "stream",
          "text": [
            "INFO:werkzeug:127.0.0.1 - - [25/May/2024 12:34:34] \"POST /predict-tuberculosis HTTP/1.1\" 200 -\n"
          ]
        },
        {
          "name": "stdout",
          "output_type": "stream",
          "text": [
            "1/1 [==============================] - 0s 30ms/step\n",
            "1/1 [==============================] - 0s 106ms/step\n"
          ]
        },
        {
          "name": "stderr",
          "output_type": "stream",
          "text": [
            "INFO:werkzeug:127.0.0.1 - - [25/May/2024 12:34:47] \"POST /predict-tuberculosis HTTP/1.1\" 200 -\n"
          ]
        },
        {
          "name": "stdout",
          "output_type": "stream",
          "text": [
            "1/1 [==============================] - 0s 29ms/step\n"
          ]
        },
        {
          "name": "stderr",
          "output_type": "stream",
          "text": [
            "INFO:werkzeug:127.0.0.1 - - [25/May/2024 12:34:59] \"POST /predict-tuberculosis HTTP/1.1\" 200 -\n"
          ]
        },
        {
          "name": "stdout",
          "output_type": "stream",
          "text": [
            "1/1 [==============================] - 0s 30ms/step\n"
          ]
        },
        {
          "name": "stderr",
          "output_type": "stream",
          "text": [
            "INFO:werkzeug:127.0.0.1 - - [25/May/2024 12:35:11] \"POST /predict-tuberculosis HTTP/1.1\" 200 -\n"
          ]
        },
        {
          "name": "stdout",
          "output_type": "stream",
          "text": [
            "1/1 [==============================] - 0s 29ms/step\n",
            "1/1 [==============================] - 0s 110ms/step\n"
          ]
        },
        {
          "name": "stderr",
          "output_type": "stream",
          "text": [
            "INFO:werkzeug:127.0.0.1 - - [25/May/2024 12:35:24] \"POST /predict-tuberculosis HTTP/1.1\" 200 -\n"
          ]
        },
        {
          "name": "stdout",
          "output_type": "stream",
          "text": [
            "1/1 [==============================] - 0s 31ms/step\n",
            "1/1 [==============================] - 0s 113ms/step\n"
          ]
        },
        {
          "name": "stderr",
          "output_type": "stream",
          "text": [
            "INFO:werkzeug:127.0.0.1 - - [25/May/2024 12:35:54] \"POST /predict-tuberculosis HTTP/1.1\" 200 -\n"
          ]
        },
        {
          "name": "stdout",
          "output_type": "stream",
          "text": [
            "1/1 [==============================] - 0s 32ms/step\n",
            "1/1 [==============================] - 0s 121ms/step\n",
            "1/1 [==============================] - 0s 117ms/step\n"
          ]
        },
        {
          "name": "stderr",
          "output_type": "stream",
          "text": [
            "INFO:werkzeug:127.0.0.1 - - [25/May/2024 12:36:58] \"POST /predict-fracture HTTP/1.1\" 200 -\n"
          ]
        },
        {
          "name": "stdout",
          "output_type": "stream",
          "text": [
            "1/1 [==============================] - 0s 31ms/step\n"
          ]
        },
        {
          "name": "stderr",
          "output_type": "stream",
          "text": [
            "INFO:werkzeug:127.0.0.1 - - [25/May/2024 12:37:14] \"POST /predict-fracture HTTP/1.1\" 200 -\n"
          ]
        },
        {
          "name": "stdout",
          "output_type": "stream",
          "text": [
            "1/1 [==============================] - 0s 31ms/step\n",
            "1/1 [==============================] - 0s 116ms/step\n",
            "1/1 [==============================] - 0s 113ms/step\n"
          ]
        },
        {
          "name": "stderr",
          "output_type": "stream",
          "text": [
            "INFO:werkzeug:127.0.0.1 - - [25/May/2024 12:37:24] \"POST /predict-fracture HTTP/1.1\" 200 -\n"
          ]
        },
        {
          "name": "stdout",
          "output_type": "stream",
          "text": [
            "1/1 [==============================] - 0s 29ms/step\n",
            "1/1 [==============================] - 0s 112ms/step\n",
            "1/1 [==============================] - 0s 116ms/step\n"
          ]
        },
        {
          "name": "stderr",
          "output_type": "stream",
          "text": [
            "INFO:werkzeug:127.0.0.1 - - [25/May/2024 12:37:36] \"POST /predict-fracture HTTP/1.1\" 200 -\n"
          ]
        },
        {
          "name": "stdout",
          "output_type": "stream",
          "text": [
            "1/1 [==============================] - 0s 31ms/step\n",
            "1/1 [==============================] - 0s 116ms/step\n",
            "1/1 [==============================] - 0s 113ms/step\n"
          ]
        },
        {
          "name": "stderr",
          "output_type": "stream",
          "text": [
            "INFO:werkzeug:127.0.0.1 - - [25/May/2024 12:38:14] \"POST /predict-fracture HTTP/1.1\" 200 -\n"
          ]
        },
        {
          "name": "stdout",
          "output_type": "stream",
          "text": [
            "1/1 [==============================] - 0s 30ms/step\n"
          ]
        },
        {
          "name": "stderr",
          "output_type": "stream",
          "text": [
            "INFO:werkzeug:127.0.0.1 - - [25/May/2024 12:38:47] \"POST /predict-fracture HTTP/1.1\" 200 -\n"
          ]
        },
        {
          "name": "stdout",
          "output_type": "stream",
          "text": [
            "1/1 [==============================] - 0s 30ms/step\n",
            "1/1 [==============================] - 0s 117ms/step\n",
            "1/1 [==============================] - 1s 1s/step\n"
          ]
        },
        {
          "name": "stderr",
          "output_type": "stream",
          "text": [
            "INFO:werkzeug:127.0.0.1 - - [25/May/2024 12:38:59] \"POST /predict-fracture HTTP/1.1\" 200 -\n"
          ]
        },
        {
          "name": "stdout",
          "output_type": "stream",
          "text": [
            "1/1 [==============================] - 0s 34ms/step\n",
            "1/1 [==============================] - 0s 119ms/step\n",
            "1/1 [==============================] - 0s 118ms/step\n"
          ]
        },
        {
          "name": "stderr",
          "output_type": "stream",
          "text": [
            "INFO:werkzeug:127.0.0.1 - - [25/May/2024 12:39:22] \"POST /predict-fracture HTTP/1.1\" 200 -\n"
          ]
        },
        {
          "name": "stdout",
          "output_type": "stream",
          "text": [
            "1/1 [==============================] - 0s 30ms/step\n",
            "1/1 [==============================] - 0s 117ms/step\n",
            "1/1 [==============================] - 0s 116ms/step\n"
          ]
        },
        {
          "name": "stderr",
          "output_type": "stream",
          "text": [
            "INFO:werkzeug:127.0.0.1 - - [25/May/2024 12:39:51] \"POST /predict-fracture HTTP/1.1\" 200 -\n"
          ]
        },
        {
          "name": "stdout",
          "output_type": "stream",
          "text": [
            "1/1 [==============================] - 0s 31ms/step\n",
            "1/1 [==============================] - 0s 119ms/step\n",
            "1/1 [==============================] - 0s 118ms/step\n"
          ]
        },
        {
          "name": "stderr",
          "output_type": "stream",
          "text": [
            "INFO:werkzeug:127.0.0.1 - - [25/May/2024 12:40:03] \"POST /predict-fracture HTTP/1.1\" 200 -\n"
          ]
        },
        {
          "name": "stdout",
          "output_type": "stream",
          "text": [
            "1/1 [==============================] - 0s 30ms/step\n",
            "1/1 [==============================] - 0s 117ms/step\n",
            "1/1 [==============================] - 0s 114ms/step\n"
          ]
        },
        {
          "name": "stderr",
          "output_type": "stream",
          "text": [
            "INFO:werkzeug:127.0.0.1 - - [25/May/2024 12:40:20] \"POST /predict-fracture HTTP/1.1\" 200 -\n"
          ]
        },
        {
          "name": "stdout",
          "output_type": "stream",
          "text": [
            "1/1 [==============================] - 0s 37ms/step\n",
            "1/1 [==============================] - 0s 139ms/step\n"
          ]
        },
        {
          "name": "stderr",
          "output_type": "stream",
          "text": [
            "INFO:werkzeug:127.0.0.1 - - [25/May/2024 14:11:46] \"POST /predict-cataract HTTP/1.1\" 200 -\n"
          ]
        },
        {
          "name": "stdout",
          "output_type": "stream",
          "text": [
            "1/1 [==============================] - 0s 100ms/step\n"
          ]
        },
        {
          "name": "stderr",
          "output_type": "stream",
          "text": [
            "INFO:werkzeug:127.0.0.1 - - [26/May/2024 05:10:18] \"POST /predict-fracture HTTP/1.1\" 200 -\n"
          ]
        },
        {
          "name": "stdout",
          "output_type": "stream",
          "text": [
            "1/1 [==============================] - 0s 88ms/step\n"
          ]
        },
        {
          "name": "stderr",
          "output_type": "stream",
          "text": [
            "INFO:werkzeug:127.0.0.1 - - [26/May/2024 11:36:38] \"POST /predict-brain-tumor HTTP/1.1\" 200 -\n"
          ]
        },
        {
          "name": "stdout",
          "output_type": "stream",
          "text": [
            "1/1 [==============================] - 0s 41ms/step\n",
            "1/1 [==============================] - 0s 189ms/step\n"
          ]
        },
        {
          "name": "stderr",
          "output_type": "stream",
          "text": [
            "INFO:werkzeug:127.0.0.1 - - [26/May/2024 11:37:02] \"POST /predict-brain-tumor HTTP/1.1\" 200 -\n"
          ]
        },
        {
          "name": "stdout",
          "output_type": "stream",
          "text": [
            "1/1 [==============================] - 0s 39ms/step\n",
            "1/1 [==============================] - 0s 117ms/step\n"
          ]
        },
        {
          "name": "stderr",
          "output_type": "stream",
          "text": [
            "INFO:werkzeug:127.0.0.1 - - [26/May/2024 11:37:38] \"POST /predict-brain-tumor HTTP/1.1\" 200 -\n"
          ]
        },
        {
          "name": "stdout",
          "output_type": "stream",
          "text": [
            "1/1 [==============================] - 0s 38ms/step\n",
            "1/1 [==============================] - 0s 111ms/step\n"
          ]
        },
        {
          "name": "stderr",
          "output_type": "stream",
          "text": [
            "INFO:werkzeug:127.0.0.1 - - [26/May/2024 11:37:52] \"POST /predict-brain-tumor HTTP/1.1\" 200 -\n"
          ]
        },
        {
          "name": "stdout",
          "output_type": "stream",
          "text": [
            "1/1 [==============================] - 0s 32ms/step\n",
            "1/1 [==============================] - 0s 105ms/step\n"
          ]
        },
        {
          "name": "stderr",
          "output_type": "stream",
          "text": [
            "INFO:werkzeug:127.0.0.1 - - [26/May/2024 11:38:07] \"POST /predict-brain-tumor HTTP/1.1\" 200 -\n"
          ]
        },
        {
          "name": "stdout",
          "output_type": "stream",
          "text": [
            "1/1 [==============================] - 0s 33ms/step\n",
            "1/1 [==============================] - 0s 107ms/step\n"
          ]
        },
        {
          "name": "stderr",
          "output_type": "stream",
          "text": [
            "INFO:werkzeug:127.0.0.1 - - [26/May/2024 11:38:42] \"POST /predict-brain-tumor HTTP/1.1\" 200 -\n"
          ]
        },
        {
          "name": "stdout",
          "output_type": "stream",
          "text": [
            "1/1 [==============================] - 0s 96ms/step\n"
          ]
        },
        {
          "name": "stderr",
          "output_type": "stream",
          "text": [
            "INFO:werkzeug:127.0.0.1 - - [27/May/2024 03:22:26] \"POST /predict-brain-tumor HTTP/1.1\" 200 -\n"
          ]
        },
        {
          "name": "stdout",
          "output_type": "stream",
          "text": [
            "1/1 [==============================] - 0s 94ms/step\n",
            "1/1 [==============================] - 0s 288ms/step\n",
            "1/1 [==============================] - 0s 317ms/step\n"
          ]
        },
        {
          "name": "stderr",
          "output_type": "stream",
          "text": [
            "INFO:werkzeug:127.0.0.1 - - [27/May/2024 04:21:15] \"POST /predict-fracture HTTP/1.1\" 200 -\n"
          ]
        },
        {
          "name": "stdout",
          "output_type": "stream",
          "text": [
            "1/1 [==============================] - 0s 55ms/step\n",
            "1/1 [==============================] - 0s 185ms/step\n"
          ]
        },
        {
          "name": "stderr",
          "output_type": "stream",
          "text": [
            "INFO:werkzeug:127.0.0.1 - - [27/May/2024 04:23:16] \"POST /predict-brain-tumor HTTP/1.1\" 200 -\n"
          ]
        },
        {
          "name": "stdout",
          "output_type": "stream",
          "text": [
            "1/1 [==============================] - 0s 55ms/step\n",
            "1/1 [==============================] - 0s 370ms/step\n"
          ]
        },
        {
          "name": "stderr",
          "output_type": "stream",
          "text": [
            "INFO:werkzeug:127.0.0.1 - - [27/May/2024 04:23:42] \"POST /predict-pneumonia HTTP/1.1\" 200 -\n"
          ]
        },
        {
          "name": "stdout",
          "output_type": "stream",
          "text": [
            "1/1 [==============================] - 0s 50ms/step\n",
            "1/1 [==============================] - 0s 310ms/step\n"
          ]
        },
        {
          "name": "stderr",
          "output_type": "stream",
          "text": [
            "INFO:werkzeug:127.0.0.1 - - [27/May/2024 04:23:59] \"POST /predict-tuberculosis HTTP/1.1\" 200 -\n"
          ]
        },
        {
          "name": "stdout",
          "output_type": "stream",
          "text": [
            "1/1 [==============================] - 0s 88ms/step\n",
            "1/1 [==============================] - 0s 337ms/step\n"
          ]
        },
        {
          "name": "stderr",
          "output_type": "stream",
          "text": [
            "INFO:werkzeug:127.0.0.1 - - [27/May/2024 05:12:20] \"POST /predict-cataract HTTP/1.1\" 200 -\n"
          ]
        },
        {
          "name": "stdout",
          "output_type": "stream",
          "text": [
            "1/1 [==============================] - 0s 57ms/step\n"
          ]
        },
        {
          "name": "stderr",
          "output_type": "stream",
          "text": [
            "INFO:werkzeug:127.0.0.1 - - [27/May/2024 05:17:24] \"POST /predict-tuberculosis HTTP/1.1\" 200 -\n"
          ]
        },
        {
          "name": "stdout",
          "output_type": "stream",
          "text": [
            "1/1 [==============================] - 0s 35ms/step\n",
            "1/1 [==============================] - 0s 306ms/step\n"
          ]
        },
        {
          "name": "stderr",
          "output_type": "stream",
          "text": [
            "INFO:werkzeug:127.0.0.1 - - [27/May/2024 05:17:58] \"POST /predict-tuberculosis HTTP/1.1\" 200 -\n"
          ]
        },
        {
          "name": "stdout",
          "output_type": "stream",
          "text": [
            "1/1 [==============================] - 0s 33ms/step\n"
          ]
        },
        {
          "name": "stderr",
          "output_type": "stream",
          "text": [
            "INFO:werkzeug:127.0.0.1 - - [27/May/2024 05:19:10] \"POST /predict-tuberculosis HTTP/1.1\" 200 -\n"
          ]
        },
        {
          "name": "stdout",
          "output_type": "stream",
          "text": [
            "1/1 [==============================] - 0s 31ms/step\n"
          ]
        },
        {
          "name": "stderr",
          "output_type": "stream",
          "text": [
            "INFO:werkzeug:127.0.0.1 - - [27/May/2024 05:19:35] \"POST /predict-tuberculosis HTTP/1.1\" 200 -\n"
          ]
        },
        {
          "name": "stdout",
          "output_type": "stream",
          "text": [
            "1/1 [==============================] - 0s 32ms/step\n",
            "1/1 [==============================] - 0s 126ms/step\n"
          ]
        },
        {
          "name": "stderr",
          "output_type": "stream",
          "text": [
            "INFO:werkzeug:127.0.0.1 - - [27/May/2024 05:19:44] \"POST /predict-tuberculosis HTTP/1.1\" 200 -\n"
          ]
        },
        {
          "name": "stdout",
          "output_type": "stream",
          "text": [
            "1/1 [==============================] - 0s 31ms/step\n"
          ]
        },
        {
          "name": "stderr",
          "output_type": "stream",
          "text": [
            "INFO:werkzeug:127.0.0.1 - - [27/May/2024 05:19:53] \"POST /predict-tuberculosis HTTP/1.1\" 200 -\n"
          ]
        },
        {
          "name": "stdout",
          "output_type": "stream",
          "text": [
            "1/1 [==============================] - 0s 32ms/step\n",
            "1/1 [==============================] - 0s 126ms/step\n"
          ]
        },
        {
          "name": "stderr",
          "output_type": "stream",
          "text": [
            "INFO:werkzeug:127.0.0.1 - - [27/May/2024 05:20:02] \"POST /predict-tuberculosis HTTP/1.1\" 200 -\n"
          ]
        },
        {
          "name": "stdout",
          "output_type": "stream",
          "text": [
            "1/1 [==============================] - 0s 33ms/step\n",
            "1/1 [==============================] - 0s 113ms/step\n"
          ]
        },
        {
          "name": "stderr",
          "output_type": "stream",
          "text": [
            "INFO:werkzeug:127.0.0.1 - - [27/May/2024 05:20:14] \"POST /predict-tuberculosis HTTP/1.1\" 200 -\n"
          ]
        },
        {
          "name": "stdout",
          "output_type": "stream",
          "text": [
            "1/1 [==============================] - 0s 31ms/step\n",
            "1/1 [==============================] - 0s 110ms/step\n"
          ]
        },
        {
          "name": "stderr",
          "output_type": "stream",
          "text": [
            "INFO:werkzeug:127.0.0.1 - - [27/May/2024 05:20:59] \"POST /predict-tuberculosis HTTP/1.1\" 200 -\n"
          ]
        },
        {
          "name": "stdout",
          "output_type": "stream",
          "text": [
            "1/1 [==============================] - 0s 34ms/step\n",
            "1/1 [==============================] - 0s 112ms/step\n"
          ]
        },
        {
          "name": "stderr",
          "output_type": "stream",
          "text": [
            "INFO:werkzeug:127.0.0.1 - - [27/May/2024 05:21:09] \"POST /predict-tuberculosis HTTP/1.1\" 200 -\n"
          ]
        },
        {
          "name": "stdout",
          "output_type": "stream",
          "text": [
            "1/1 [==============================] - 0s 32ms/step\n"
          ]
        },
        {
          "name": "stderr",
          "output_type": "stream",
          "text": [
            "INFO:werkzeug:127.0.0.1 - - [27/May/2024 05:21:20] \"POST /predict-tuberculosis HTTP/1.1\" 200 -\n"
          ]
        },
        {
          "name": "stdout",
          "output_type": "stream",
          "text": [
            "1/1 [==============================] - 0s 31ms/step\n",
            "1/1 [==============================] - 0s 111ms/step\n"
          ]
        },
        {
          "name": "stderr",
          "output_type": "stream",
          "text": [
            "INFO:werkzeug:127.0.0.1 - - [27/May/2024 05:21:29] \"POST /predict-tuberculosis HTTP/1.1\" 200 -\n"
          ]
        },
        {
          "name": "stdout",
          "output_type": "stream",
          "text": [
            "1/1 [==============================] - 0s 30ms/step\n"
          ]
        },
        {
          "name": "stderr",
          "output_type": "stream",
          "text": [
            "INFO:werkzeug:127.0.0.1 - - [27/May/2024 05:21:41] \"POST /predict-tuberculosis HTTP/1.1\" 200 -\n"
          ]
        },
        {
          "name": "stdout",
          "output_type": "stream",
          "text": [
            "1/1 [==============================] - 0s 31ms/step\n",
            "1/1 [==============================] - 0s 130ms/step\n"
          ]
        },
        {
          "name": "stderr",
          "output_type": "stream",
          "text": [
            "INFO:werkzeug:127.0.0.1 - - [27/May/2024 05:21:49] \"POST /predict-tuberculosis HTTP/1.1\" 200 -\n"
          ]
        },
        {
          "name": "stdout",
          "output_type": "stream",
          "text": [
            "1/1 [==============================] - 0s 94ms/step\n",
            "1/1 [==============================] - 0s 193ms/step\n"
          ]
        },
        {
          "name": "stderr",
          "output_type": "stream",
          "text": [
            "INFO:werkzeug:127.0.0.1 - - [27/May/2024 08:44:53] \"POST /predict-brain-tumor HTTP/1.1\" 200 -\n"
          ]
        },
        {
          "name": "stdout",
          "output_type": "stream",
          "text": [
            "1/1 [==============================] - 0s 41ms/step\n"
          ]
        },
        {
          "name": "stderr",
          "output_type": "stream",
          "text": [
            "INFO:werkzeug:127.0.0.1 - - [27/May/2024 08:45:36] \"POST /predict-brain-tumor HTTP/1.1\" 200 -\n"
          ]
        },
        {
          "name": "stdout",
          "output_type": "stream",
          "text": [
            "1/1 [==============================] - 0s 35ms/step\n",
            "1/1 [==============================] - 0s 109ms/step\n"
          ]
        },
        {
          "name": "stderr",
          "output_type": "stream",
          "text": [
            "INFO:werkzeug:127.0.0.1 - - [27/May/2024 08:46:44] \"POST /predict-brain-tumor HTTP/1.1\" 200 -\n"
          ]
        },
        {
          "name": "stdout",
          "output_type": "stream",
          "text": [
            "1/1 [==============================] - 0s 66ms/step\n",
            "1/1 [==============================] - 0s 313ms/step\n"
          ]
        },
        {
          "name": "stderr",
          "output_type": "stream",
          "text": [
            "INFO:werkzeug:127.0.0.1 - - [27/May/2024 08:53:07] \"POST /predict-cataract HTTP/1.1\" 200 -\n"
          ]
        },
        {
          "name": "stdout",
          "output_type": "stream",
          "text": [
            "1/1 [==============================] - 0s 31ms/step\n",
            "1/1 [==============================] - 0s 117ms/step\n"
          ]
        },
        {
          "name": "stderr",
          "output_type": "stream",
          "text": [
            "INFO:werkzeug:127.0.0.1 - - [27/May/2024 08:53:47] \"POST /predict-cataract HTTP/1.1\" 200 -\n"
          ]
        },
        {
          "name": "stdout",
          "output_type": "stream",
          "text": [
            "1/1 [==============================] - 0s 33ms/step\n",
            "1/1 [==============================] - 0s 136ms/step\n"
          ]
        },
        {
          "name": "stderr",
          "output_type": "stream",
          "text": [
            "INFO:werkzeug:127.0.0.1 - - [27/May/2024 08:54:10] \"POST /predict-cataract HTTP/1.1\" 200 -\n"
          ]
        }
      ],
      "source": [
        "if __name__ == \"__main__\":\n",
        "\n",
        "    port = 5000\n",
        "    public_url = ngrok.connect(port)\n",
        "    print(' * ngrok tunnel \"{}\"'.format(public_url))\n",
        "\n",
        "    # Update any base URLs or webhooks to use the public ngrok URL\n",
        "    app.config['BASE_URL'] = public_url  # You can use this base URL in your frontend\n",
        "\n",
        "    # Start the Flask app\n",
        "    app.run()"
      ]
    },
    {
      "cell_type": "code",
      "execution_count": null,
      "id": "RdSlvrESgMlw",
      "metadata": {
        "id": "RdSlvrESgMlw"
      },
      "outputs": [],
      "source": []
    }
  ],
  "metadata": {
    "colab": {
      "name": "main",
      "provenance": []
    },
    "kernelspec": {
      "display_name": "Python 3",
      "language": "python",
      "name": "python3"
    },
    "language_info": {
      "codemirror_mode": {
        "name": "ipython",
        "version": 3
      },
      "file_extension": ".py",
      "mimetype": "text/x-python",
      "name": "python",
      "nbconvert_exporter": "python",
      "pygments_lexer": "ipython3",
      "version": "3.10.10"
    }
  },
  "nbformat": 4,
  "nbformat_minor": 5
}
